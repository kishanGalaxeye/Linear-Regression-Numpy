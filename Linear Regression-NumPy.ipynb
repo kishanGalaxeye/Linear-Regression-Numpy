{
  "nbformat": 4,
  "nbformat_minor": 0,
  "metadata": {
    "colab": {
      "name": "Untitled0.ipynb",
      "provenance": [],
      "authorship_tag": "ABX9TyOQy0Zapu7bbYcLU4YI0Zoo",
      "include_colab_link": true
    },
    "kernelspec": {
      "name": "python3",
      "display_name": "Python 3"
    },
    "language_info": {
      "name": "python"
    }
  },
  "cells": [
    {
      "cell_type": "markdown",
      "metadata": {
        "id": "view-in-github",
        "colab_type": "text"
      },
      "source": [
        "<a href=\"https://colab.research.google.com/github/kishanGalaxeye/Linear-Regression-Numpy/blob/main/Linear%20Regression-NumPy.ipynb\" target=\"_parent\"><img src=\"https://colab.research.google.com/assets/colab-badge.svg\" alt=\"Open In Colab\"/></a>"
      ]
    },
    {
      "cell_type": "code",
      "metadata": {
        "colab": {
          "base_uri": "https://localhost:8080/"
        },
        "id": "-xXcZpIcEmbq",
        "outputId": "b082ff53-cdc3-4dec-d024-f71cdc9f9f9e"
      },
      "source": [
        "!pip install sklearn"
      ],
      "execution_count": null,
      "outputs": [
        {
          "output_type": "stream",
          "text": [
            "Requirement already satisfied: sklearn in /usr/local/lib/python3.7/dist-packages (0.0)\n",
            "Requirement already satisfied: scikit-learn in /usr/local/lib/python3.7/dist-packages (from sklearn) (0.22.2.post1)\n",
            "Requirement already satisfied: scipy>=0.17.0 in /usr/local/lib/python3.7/dist-packages (from scikit-learn->sklearn) (1.4.1)\n",
            "Requirement already satisfied: joblib>=0.11 in /usr/local/lib/python3.7/dist-packages (from scikit-learn->sklearn) (1.0.1)\n",
            "Requirement already satisfied: numpy>=1.11.0 in /usr/local/lib/python3.7/dist-packages (from scikit-learn->sklearn) (1.19.5)\n"
          ],
          "name": "stdout"
        }
      ]
    },
    {
      "cell_type": "code",
      "metadata": {
        "colab": {
          "base_uri": "https://localhost:8080/"
        },
        "id": "1j3_4MmCHXto",
        "outputId": "387776c5-4a5d-4434-9ce9-ae2e8eabbf8a"
      },
      "source": [
        "!pip install matplotlib"
      ],
      "execution_count": null,
      "outputs": [
        {
          "output_type": "stream",
          "text": [
            "Requirement already satisfied: matplotlib in /usr/local/lib/python3.7/dist-packages (3.2.2)\n",
            "Requirement already satisfied: python-dateutil>=2.1 in /usr/local/lib/python3.7/dist-packages (from matplotlib) (2.8.1)\n",
            "Requirement already satisfied: pyparsing!=2.0.4,!=2.1.2,!=2.1.6,>=2.0.1 in /usr/local/lib/python3.7/dist-packages (from matplotlib) (2.4.7)\n",
            "Requirement already satisfied: cycler>=0.10 in /usr/local/lib/python3.7/dist-packages (from matplotlib) (0.10.0)\n",
            "Requirement already satisfied: kiwisolver>=1.0.1 in /usr/local/lib/python3.7/dist-packages (from matplotlib) (1.3.1)\n",
            "Requirement already satisfied: numpy>=1.11 in /usr/local/lib/python3.7/dist-packages (from matplotlib) (1.19.5)\n",
            "Requirement already satisfied: six>=1.5 in /usr/local/lib/python3.7/dist-packages (from python-dateutil>=2.1->matplotlib) (1.15.0)\n"
          ],
          "name": "stdout"
        }
      ]
    },
    {
      "cell_type": "code",
      "metadata": {
        "colab": {
          "base_uri": "https://localhost:8080/"
        },
        "id": "hKw2FCvNJq_R",
        "outputId": "8c7816db-ab49-4ab1-86d7-d332316612b8"
      },
      "source": [
        "!pip install celluloid"
      ],
      "execution_count": 107,
      "outputs": [
        {
          "output_type": "stream",
          "text": [
            "Collecting celluloid\n",
            "  Downloading https://files.pythonhosted.org/packages/60/a7/7fbe80721c6f1b7370c4e50c77abe31b4d5cfeb58873d4d32f48ae5a0bae/celluloid-0.2.0-py3-none-any.whl\n",
            "Requirement already satisfied: matplotlib in /usr/local/lib/python3.7/dist-packages (from celluloid) (3.2.2)\n",
            "Requirement already satisfied: cycler>=0.10 in /usr/local/lib/python3.7/dist-packages (from matplotlib->celluloid) (0.10.0)\n",
            "Requirement already satisfied: pyparsing!=2.0.4,!=2.1.2,!=2.1.6,>=2.0.1 in /usr/local/lib/python3.7/dist-packages (from matplotlib->celluloid) (2.4.7)\n",
            "Requirement already satisfied: numpy>=1.11 in /usr/local/lib/python3.7/dist-packages (from matplotlib->celluloid) (1.19.5)\n",
            "Requirement already satisfied: python-dateutil>=2.1 in /usr/local/lib/python3.7/dist-packages (from matplotlib->celluloid) (2.8.1)\n",
            "Requirement already satisfied: kiwisolver>=1.0.1 in /usr/local/lib/python3.7/dist-packages (from matplotlib->celluloid) (1.3.1)\n",
            "Requirement already satisfied: six in /usr/local/lib/python3.7/dist-packages (from cycler>=0.10->matplotlib->celluloid) (1.15.0)\n",
            "Installing collected packages: celluloid\n",
            "Successfully installed celluloid-0.2.0\n"
          ],
          "name": "stdout"
        }
      ]
    },
    {
      "cell_type": "code",
      "metadata": {
        "id": "oJuWS_6AEo2e"
      },
      "source": [
        "from matplotlib import pyplot as plt\n",
        "import numpy as np"
      ],
      "execution_count": 3,
      "outputs": []
    },
    {
      "cell_type": "code",
      "metadata": {
        "id": "8QSQBEtpEwMb"
      },
      "source": [
        "def createDataset(x):\n",
        "  w=[0.5, 0.3]\n",
        "  y= x.dot(w) + 10*np.random.rand(1,100)\n",
        "  return y"
      ],
      "execution_count": 32,
      "outputs": []
    },
    {
      "cell_type": "code",
      "metadata": {
        "id": "SM83bzNqNsI6",
        "colab": {
          "base_uri": "https://localhost:8080/"
        },
        "outputId": "429f23a7-5726-414d-8c55-dbaa1e180d7b"
      },
      "source": [
        "lis=[]\n",
        "for i in range(0,100):\n",
        "  lis.append([i+1,1])\n",
        "X=np.array(lis)\n",
        "X.shape\n",
        "X"
      ],
      "execution_count": 51,
      "outputs": [
        {
          "output_type": "execute_result",
          "data": {
            "text/plain": [
              "array([[  1,   1],\n",
              "       [  2,   1],\n",
              "       [  3,   1],\n",
              "       [  4,   1],\n",
              "       [  5,   1],\n",
              "       [  6,   1],\n",
              "       [  7,   1],\n",
              "       [  8,   1],\n",
              "       [  9,   1],\n",
              "       [ 10,   1],\n",
              "       [ 11,   1],\n",
              "       [ 12,   1],\n",
              "       [ 13,   1],\n",
              "       [ 14,   1],\n",
              "       [ 15,   1],\n",
              "       [ 16,   1],\n",
              "       [ 17,   1],\n",
              "       [ 18,   1],\n",
              "       [ 19,   1],\n",
              "       [ 20,   1],\n",
              "       [ 21,   1],\n",
              "       [ 22,   1],\n",
              "       [ 23,   1],\n",
              "       [ 24,   1],\n",
              "       [ 25,   1],\n",
              "       [ 26,   1],\n",
              "       [ 27,   1],\n",
              "       [ 28,   1],\n",
              "       [ 29,   1],\n",
              "       [ 30,   1],\n",
              "       [ 31,   1],\n",
              "       [ 32,   1],\n",
              "       [ 33,   1],\n",
              "       [ 34,   1],\n",
              "       [ 35,   1],\n",
              "       [ 36,   1],\n",
              "       [ 37,   1],\n",
              "       [ 38,   1],\n",
              "       [ 39,   1],\n",
              "       [ 40,   1],\n",
              "       [ 41,   1],\n",
              "       [ 42,   1],\n",
              "       [ 43,   1],\n",
              "       [ 44,   1],\n",
              "       [ 45,   1],\n",
              "       [ 46,   1],\n",
              "       [ 47,   1],\n",
              "       [ 48,   1],\n",
              "       [ 49,   1],\n",
              "       [ 50,   1],\n",
              "       [ 51,   1],\n",
              "       [ 52,   1],\n",
              "       [ 53,   1],\n",
              "       [ 54,   1],\n",
              "       [ 55,   1],\n",
              "       [ 56,   1],\n",
              "       [ 57,   1],\n",
              "       [ 58,   1],\n",
              "       [ 59,   1],\n",
              "       [ 60,   1],\n",
              "       [ 61,   1],\n",
              "       [ 62,   1],\n",
              "       [ 63,   1],\n",
              "       [ 64,   1],\n",
              "       [ 65,   1],\n",
              "       [ 66,   1],\n",
              "       [ 67,   1],\n",
              "       [ 68,   1],\n",
              "       [ 69,   1],\n",
              "       [ 70,   1],\n",
              "       [ 71,   1],\n",
              "       [ 72,   1],\n",
              "       [ 73,   1],\n",
              "       [ 74,   1],\n",
              "       [ 75,   1],\n",
              "       [ 76,   1],\n",
              "       [ 77,   1],\n",
              "       [ 78,   1],\n",
              "       [ 79,   1],\n",
              "       [ 80,   1],\n",
              "       [ 81,   1],\n",
              "       [ 82,   1],\n",
              "       [ 83,   1],\n",
              "       [ 84,   1],\n",
              "       [ 85,   1],\n",
              "       [ 86,   1],\n",
              "       [ 87,   1],\n",
              "       [ 88,   1],\n",
              "       [ 89,   1],\n",
              "       [ 90,   1],\n",
              "       [ 91,   1],\n",
              "       [ 92,   1],\n",
              "       [ 93,   1],\n",
              "       [ 94,   1],\n",
              "       [ 95,   1],\n",
              "       [ 96,   1],\n",
              "       [ 97,   1],\n",
              "       [ 98,   1],\n",
              "       [ 99,   1],\n",
              "       [100,   1]])"
            ]
          },
          "metadata": {
            "tags": []
          },
          "execution_count": 51
        }
      ]
    },
    {
      "cell_type": "code",
      "metadata": {
        "colab": {
          "base_uri": "https://localhost:8080/"
        },
        "id": "KbAIMyxYOOTC",
        "outputId": "4baaddae-98fc-45f3-a087-55fca65b64f0"
      },
      "source": [
        "y=createDataset(X)\n",
        "y[0]"
      ],
      "execution_count": 38,
      "outputs": [
        {
          "output_type": "execute_result",
          "data": {
            "text/plain": [
              "array([ 3.45302955,  6.1968531 ,  9.34175027,  6.47917435,  4.41562222,\n",
              "       10.44799422, 12.97657439,  8.52185838,  5.28745911,  6.36846818,\n",
              "       13.60599912,  7.7727005 , 10.44632649,  8.32475898, 14.41452649,\n",
              "        9.43309893, 12.62092803, 10.07598824, 12.83352144, 14.43139709,\n",
              "       20.0180469 , 11.32492149, 17.57742625, 20.60053873, 18.04879351,\n",
              "       21.75897842, 21.23864182, 17.55026912, 16.9556147 , 24.71029701,\n",
              "       17.32724756, 23.51659601, 19.95334341, 21.21027248, 23.30006951,\n",
              "       26.7977153 , 20.38005829, 24.8993989 , 27.36547275, 29.26770425,\n",
              "       20.90987724, 26.07669342, 29.92788336, 27.80610611, 26.50270234,\n",
              "       26.70383858, 31.22337223, 29.26237523, 31.56509351, 31.04380564,\n",
              "       27.50724254, 28.17614562, 35.71089671, 31.64242139, 35.28488035,\n",
              "       29.34998421, 33.98683162, 33.0859235 , 37.79461625, 37.29860246,\n",
              "       35.87986751, 39.39560105, 37.73550564, 35.39195774, 37.61082288,\n",
              "       39.18691418, 39.54684291, 35.88894822, 37.90974331, 35.38043007,\n",
              "       39.32738996, 43.15091367, 40.91556213, 47.04401338, 38.225142  ,\n",
              "       45.42093686, 41.34521262, 42.48705384, 46.05589764, 41.37982628,\n",
              "       45.64924196, 45.48840917, 45.82333211, 44.2753207 , 46.18686004,\n",
              "       52.10237682, 48.26553519, 52.29222882, 44.87915783, 51.97212546,\n",
              "       54.31538443, 49.30039388, 47.51444656, 48.46880474, 52.97479367,\n",
              "       54.06273298, 54.59001581, 58.74978905, 50.50393512, 52.03487178])"
            ]
          },
          "metadata": {
            "tags": []
          },
          "execution_count": 38
        }
      ]
    },
    {
      "cell_type": "code",
      "metadata": {
        "colab": {
          "base_uri": "https://localhost:8080/",
          "height": 265
        },
        "id": "gbgxNLQsKENe",
        "outputId": "da0d7c25-24ff-440e-9987-b8205b7d6a81"
      },
      "source": [
        "plt.scatter(X.T[0],y)\n",
        "plt.show()"
      ],
      "execution_count": 44,
      "outputs": [
        {
          "output_type": "display_data",
          "data": {
            "image/png": "[encoded data removed]",
            "text/plain": [
              "<Figure size 432x288 with 1 Axes>"
            ]
          },
          "metadata": {
            "tags": [],
            "needs_background": "light"
          }
        }
      ]
    },
    {
      "cell_type": "code",
      "metadata": {
        "id": "SPE86DsrF5rv"
      },
      "source": [
        "from sklearn.model_selection import train_test_split\n"
      ],
      "execution_count": 8,
      "outputs": []
    },
    {
      "cell_type": "code",
      "metadata": {
        "id": "LgzBQ9MCjK5_"
      },
      "source": [
        "# y = w1x + w2\n",
        "\n",
        "w1 = 0\n",
        "w2 = 0"
      ],
      "execution_count": 47,
      "outputs": []
    },
    {
      "cell_type": "code",
      "metadata": {
        "id": "OLX_DpdcPhJA"
      },
      "source": [
        "def squareCost(x,w):\n",
        "  return np.sum((x.dot(w) -y)**2)/100"
      ],
      "execution_count": 45,
      "outputs": []
    },
    {
      "cell_type": "code",
      "metadata": {
        "colab": {
          "base_uri": "https://localhost:8080/"
        },
        "id": "gja3-fyvjoSZ",
        "outputId": "1fd427e3-052f-47df-d694-53b73540d533"
      },
      "source": [
        "squareCost(X,w)"
      ],
      "execution_count": 48,
      "outputs": [
        {
          "output_type": "execute_result",
          "data": {
            "text/plain": [
              "1127.1172958618565"
            ]
          },
          "metadata": {
            "tags": []
          },
          "execution_count": 48
        }
      ]
    },
    {
      "cell_type": "code",
      "metadata": {
        "colab": {
          "base_uri": "https://localhost:8080/"
        },
        "id": "yeRcrP44sRj1",
        "outputId": "c87d3d54-8f1c-4edd-b837-b176de04eda1"
      },
      "source": [
        "\"\"\"\n",
        "w1 = 0\n",
        "w2 = 0\n",
        "w1 = [w1]\n",
        "w2 = [w2]\n",
        "#c = [squareCost(X.T, y, 0,0)]\n",
        "\n",
        "for i in range(iter):\n",
        "  y_pred = w1[i]*X.T[0] + w2[i]\n",
        "#  c.append(squareCost(X.T, y_pred, w1[i+1],w2[i+1]))\n",
        "#  print(squareCost(X.T, y_pred, w1[i],w2[i]))\n",
        "  dw1 = (-2/100) * np.sum(X.T[0] * (y - y_pred))\n",
        "  dw2 = (-2/100) * np.sum(y - y_pred)\n",
        "  print(dw1, dw2)\n",
        "  w1.append(w1[i] - (alpha * dw1) )\n",
        "  w2.append( w2[i] - (alpha * dw2)  )\n",
        "#  c.append(squareCost(X.T, y_pred, w1[i+1],w2[i+1]))\n",
        "\n",
        "\n",
        "print(w1)\n",
        "print(w2)\n",
        "print(c)\n",
        "#squareCost(X.T, y_pred, w1[i+1], w2[i+1])  \"\"\""
      ],
      "execution_count": 59,
      "outputs": [
        {
          "output_type": "stream",
          "text": [
            "-3881.997697567057 -60.416741316133724\n",
            "-1254.4396465361363 -21.196481222443218\n",
            "-405.34625326478664 -8.522401496183761\n",
            "-130.9623674253941 -4.42669985791018\n",
            "-42.29542372006436 -3.1030946069421077\n",
            "[0, 0.3881997697567057, 0.5136437344103193, 0.554178359736798, 0.5672745964793374, 0.5715041388513439]\n",
            "[0, 0.0060416741316133725, 0.008161322253857694, 0.00901356240347607, 0.009456232389267087, 0.009766541849961298]\n",
            "[1143.65299026985]\n"
          ],
          "name": "stdout"
        }
      ]
    },
    {
      "cell_type": "code",
      "metadata": {
        "colab": {
          "base_uri": "https://localhost:8080/",
          "height": 876
        },
        "id": "eMmgIlEdEoCE",
        "outputId": "96ee0e8e-2a61-4a30-e94e-33b2cd2db9fd"
      },
      "source": [
        "fig = plt.figure(figsize=(10,10)) # create figure\n",
        "labelsize_ = 14\n",
        "for i in range(iter):\n",
        "    ax1=fig.add_subplot(3, 2, 2)  \n",
        "    ax1.plot(w1[0:i], color='blue', linestyle=\"dashed\", alpha=0.5)\n",
        "    ax1.set_title(\"w1\", fontsize=17)\n",
        "    ax1.tick_params(axis='both', which='major', labelsize=labelsize_)\n",
        "\n",
        "    ax2=fig.add_subplot(3, 2, 4, sharex=ax1) # right plots share x-axis. \n",
        "    ax2.plot(w2[0:i], color='red', linestyle=\"dashed\", alpha=0.5)\n",
        "    ax2.set_title(\"w2\", fontsize=17)\n",
        "    ax2.tick_params(axis='both', which='major', labelsize=labelsize_)\n",
        "\n",
        "    ax3=fig.add_subplot(3, 2, 6, sharex=ax1) \n",
        "    ax3.plot(c[0:i],color='black',linestyle=\"dashed\")\n",
        "    ax3.set_title(\"costs\", fontsize=17)\n",
        "    ax3.tick_params(axis='both', which='major', labelsize=labelsize_)\n",
        "    ax3.set_xlabel(\"epochs\", fontsize=14, labelpad=10)\n",
        "\n",
        "    ax0=fig.add_subplot(1, 2, 1) # plot fit\n",
        "    plt.plot([1,100], [min(Y_pred[0]), max(Y_pred[0])], color='red')  # regression line\n",
        "    ax0.scatter(X.T, y, color='b',marker='x', s=44)\n",
        "    ax0.set_title(\"Linear fit\", fontsize=25)\n",
        "    ax0.tick_params(axis='both', which='major', labelsize=labelsize_)\n",
        "    ax0.set_xlabel(\"x\", fontsize=25, labelpad=10)\n",
        "    ax0.set_ylabel(\"y\", fontsize=25, labelpad=10)\n",
        "    ax0.tick_params(axis='both', which='major', labelsize=labelsize_) \n",
        "\n",
        "    plt.tight_layout()"
      ],
      "execution_count": 23,
      "outputs": [
        {
          "output_type": "stream",
          "text": [
            "/usr/local/lib/python3.7/dist-packages/ipykernel_launcher.py:4: MatplotlibDeprecationWarning: Adding an axes using the same arguments as a previous axes currently reuses the earlier instance.  In a future version, a new instance will always be created and returned.  Meanwhile, this warning can be suppressed, and the future behavior ensured, by passing a unique label to each axes instance.\n",
            "  after removing the cwd from sys.path.\n",
            "/usr/local/lib/python3.7/dist-packages/ipykernel_launcher.py:9: MatplotlibDeprecationWarning: Adding an axes using the same arguments as a previous axes currently reuses the earlier instance.  In a future version, a new instance will always be created and returned.  Meanwhile, this warning can be suppressed, and the future behavior ensured, by passing a unique label to each axes instance.\n",
            "  if __name__ == '__main__':\n",
            "/usr/local/lib/python3.7/dist-packages/ipykernel_launcher.py:14: MatplotlibDeprecationWarning: Adding an axes using the same arguments as a previous axes currently reuses the earlier instance.  In a future version, a new instance will always be created and returned.  Meanwhile, this warning can be suppressed, and the future behavior ensured, by passing a unique label to each axes instance.\n",
            "  \n",
            "/usr/local/lib/python3.7/dist-packages/ipykernel_launcher.py:20: MatplotlibDeprecationWarning: Adding an axes using the same arguments as a previous axes currently reuses the earlier instance.  In a future version, a new instance will always be created and returned.  Meanwhile, this warning can be suppressed, and the future behavior ensured, by passing a unique label to each axes instance.\n"
          ],
          "name": "stderr"
        },
        {
          "output_type": "display_data",
          "data": {
            "image/png": "[encoded data removed]",
            "text/plain": [
              "<Figure size 720x720 with 4 Axes>"
            ]
          },
          "metadata": {
            "tags": [],
            "needs_background": "light"
          }
        }
      ]
    },
    {
      "cell_type": "code",
      "metadata": {
        "id": "22zOrLyKoS7t"
      },
      "source": [
        "alpha = 0.0001 #Learning rate\n",
        "iter = 10"
      ],
      "execution_count": 111,
      "outputs": []
    },
    {
      "cell_type": "code",
      "metadata": {
        "colab": {
          "base_uri": "https://localhost:8080/"
        },
        "id": "gf1Z41Y17XIJ",
        "outputId": "dc2792b9-a300-47eb-bcae-c1e4d53f0b7d"
      },
      "source": [
        "w1 = 0.5\n",
        "w2 = 0.3\n",
        "#w3 = 0\n",
        "w = np.array([[w1 , w2]])\n",
        "print(w)\n",
        "c = [squareCost(X,w[0])]\n",
        "\n",
        "for i in range(iter):\n",
        "  y_pred = X.dot(w[i])\n",
        "  dw = (-2/100) * np.sum(np.transpose(X) * (y - y_pred), axis=1)\n",
        "  w=np.append(w, np.array([w[i] - (alpha * dw)]),axis=0)\n",
        "  c.append(squareCost(X, w[i+1]))\n",
        "\n",
        "print(w)\n",
        "print(c)"
      ],
      "execution_count": 118,
      "outputs": [
        {
          "output_type": "stream",
          "text": [
            "[[0.5 0.3]]\n",
            "[[0.5        0.3       ]\n",
            " [0.54681977 0.30093167]\n",
            " [0.56194719 0.30139028]\n",
            " [0.56683325 0.30169601]\n",
            " [0.56840983 0.30195233]\n",
            " [0.56891695 0.30219268]\n",
            " [0.56907847 0.30242785]\n",
            " [0.56912832 0.30266135]\n",
            " [0.56914208 0.30289429]\n",
            " [0.56914417 0.30312705]\n",
            " [0.5691425  0.30335974]]\n",
            "[29.108424683487947, 14.600182038901504, 13.084667240061194, 12.925923721415193, 12.90886167910387, 12.906594834102789, 12.905873031766076, 12.905312618951518, 12.904769107075786, 12.904227407851277, 12.903685945672317]\n"
          ],
          "name": "stdout"
        }
      ]
    },
    {
      "cell_type": "code",
      "metadata": {
        "colab": {
          "base_uri": "https://localhost:8080/",
          "height": 265
        },
        "id": "dgpLMsRs7o5E",
        "outputId": "0d904bd4-e3e2-4fde-8a8f-17557fd6be0f"
      },
      "source": [
        "Y_pred = X.dot(w[-1])\n",
        "\n",
        "plt.scatter(X.T[0], y) \n",
        "plt.plot([1,100], [min(Y_pred), max(Y_pred)], color='red')  # regression line\n",
        "plt.show()"
      ],
      "execution_count": 119,
      "outputs": [
        {
          "output_type": "display_data",
          "data": {
            "image/png": "[encoded data removed]",
            "text/plain": [
              "<Figure size 432x288 with 1 Axes>"
            ]
          },
          "metadata": {
            "tags": [],
            "needs_background": "light"
          }
        }
      ]
    },
    {
      "cell_type": "code",
      "metadata": {
        "colab": {
          "base_uri": "https://localhost:8080/",
          "height": 275
        },
        "id": "tgK0DeQhBAQ5",
        "outputId": "a223e365-b420-4b57-9cf4-6dc1b8917352"
      },
      "source": [
        "fig = plt.figure(figsize=(10,10)) # create figure\n",
        "labelsize_ = 14\n",
        "ax3=fig.add_subplot(3, 2, 6, sharex=ax1) \n",
        "ax3.plot(c[0:i],color='black',linestyle=\"dashed\")\n",
        "ax3.set_title(\"costs\", fontsize=17)\n",
        "ax3.tick_params(axis='both', which='major', labelsize=labelsize_)\n",
        "ax3.set_xlabel(\"epochs\", fontsize=14, labelpad=10)"
      ],
      "execution_count": 120,
      "outputs": [
        {
          "output_type": "execute_result",
          "data": {
            "text/plain": [
              "Text(0.5, 0, 'epochs')"
            ]
          },
          "metadata": {
            "tags": []
          },
          "execution_count": 120
        },
        {
          "output_type": "display_data",
          "data": {
            "image/png": "[encoded data removed]",
            "text/plain": [
              "<Figure size 720x720 with 1 Axes>"
            ]
          },
          "metadata": {
            "tags": [],
            "needs_background": "light"
          }
        }
      ]
    },
    {
      "cell_type": "code",
      "metadata": {
        "id": "Sj2BrHC7LHiD"
      },
      "source": [
        ""
      ],
      "execution_count": null,
      "outputs": []
    }
  ]
}